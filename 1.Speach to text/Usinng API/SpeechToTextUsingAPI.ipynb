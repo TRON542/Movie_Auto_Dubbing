{
 "cells": [
  {
   "cell_type": "code",
   "execution_count": 7,
   "metadata": {},
   "outputs": [
    {
     "name": "stdout",
     "output_type": "stream",
     "text": [
      "Requirement already satisfied: pytube in c:\\users\\sunil kumar\\appdata\\local\\programs\\python\\python39\\lib\\site-packages (15.0.0)\n"
     ]
    }
   ],
   "source": [
    "! pip install pytube\n",
    "! pip install moviepy pydub\n",
    "! pip install assemblyai"
   ]
  },
  {
   "cell_type": "code",
   "execution_count": 1,
   "metadata": {},
   "outputs": [],
   "source": [
    "import os\n",
    "videoFileLoc = 'D:\\\\Capstone\\\\Video'\n",
    "outputFileLoc = 'D:\\\\Capstone\\\\mp3 output'"
   ]
  },
  {
   "cell_type": "code",
   "execution_count": 2,
   "metadata": {},
   "outputs": [
    {
     "data": {
      "text/plain": [
       "'D:\\\\Capstone\\\\Video\\\\Sample1.mp4'"
      ]
     },
     "execution_count": 2,
     "metadata": {},
     "output_type": "execute_result"
    }
   ],
   "source": [
    "FileName = 'Sample1.mp4'                                # Provide File Name\n",
    "OutputFileName = 'audio_extracted.mp3'\n",
    "input_video_path = os.path.join(videoFileLoc,FileName)\n",
    "input_video_path"
   ]
  },
  {
   "attachments": {},
   "cell_type": "markdown",
   "metadata": {},
   "source": [
    "<h4> Using Local Video File </h4>"
   ]
  },
  {
   "cell_type": "code",
   "execution_count": 10,
   "metadata": {},
   "outputs": [
    {
     "name": "stdout",
     "output_type": "stream",
     "text": [
      "MoviePy - Writing audio in D:\\Capstone\\mp3 output\\audio_extracted.mp3\n"
     ]
    },
    {
     "name": "stderr",
     "output_type": "stream",
     "text": [
      "                                                                   "
     ]
    },
    {
     "name": "stdout",
     "output_type": "stream",
     "text": [
      "MoviePy - Done.\n"
     ]
    },
    {
     "name": "stderr",
     "output_type": "stream",
     "text": [
      "\r"
     ]
    }
   ],
   "source": [
    "from moviepy.editor import VideoFileClip \n",
    "\n",
    "\n",
    "def extract_audio_from_video(input_path, output_path):\n",
    "    video_clip = VideoFileClip(input_path)\n",
    "    audio_clip = video_clip.audio\n",
    "    audio_clip.write_audiofile(output_path)\n",
    "    \n",
    "FileName = 'Sample1.mp4'                                # Provide File Name\n",
    "\n",
    "OutputFileName = 'audio_extracted.mp3'\n",
    "input_video_path = os.path.join(videoFileLoc,FileName)\n",
    "output_audio_path = os.path.join(outputFileLoc,OutputFileName)\n",
    "extract_audio_from_video(input_video_path, output_audio_path)\n",
    "File_path = os.path.join(outputFileLoc,OutputFileName)\n"
   ]
  },
  {
   "attachments": {},
   "cell_type": "markdown",
   "metadata": {},
   "source": [
    "<h4> Using Youtube File </h4> "
   ]
  },
  {
   "cell_type": "code",
   "execution_count": 4,
   "metadata": {},
   "outputs": [
    {
     "data": {
      "text/plain": [
       "'D:\\\\Capstone\\\\mp3 output\\\\audio_extracted.mp3'"
      ]
     },
     "execution_count": 4,
     "metadata": {},
     "output_type": "execute_result"
    }
   ],
   "source": [
    "from pytube import YouTube\n",
    "video = YouTube(\"https://www.youtube.com/watch?v=mkVjrB8g6mM\")\n",
    "yt = video.streams.get_audio_only()\n",
    "yt.download(filename='audio_extracted.mp3',output_path=outputFileLoc)\n",
    "File_path = os.path.join(outputFileLoc,'audio_extracted.mp3')\n",
    "File_path"
   ]
  },
  {
   "attachments": {},
   "cell_type": "markdown",
   "metadata": {},
   "source": [
    "<h1 > Uploading to AssemblyAI </h1>"
   ]
  },
  {
   "cell_type": "code",
   "execution_count": 12,
   "metadata": {},
   "outputs": [
    {
     "name": "stdout",
     "output_type": "stream",
     "text": [
      "D:\\Capstone\\mp3 output\\audio_extracted.mp3\n"
     ]
    },
    {
     "data": {
      "text/plain": [
       "\"You. So what's the best way to learn data science? Well, the best way to learn data science is to do data science. And so if you're into this type of content, you want to consider subscribing for more tutorials and concept videos.\""
      ]
     },
     "execution_count": 12,
     "metadata": {},
     "output_type": "execute_result"
    }
   ],
   "source": [
    "import assemblyai as aai\n",
    "import time\n",
    "aai.settings.api_key = \"fb7e62fc83f64fa2b45e7b97c13ee6a0\"\n",
    "\n",
    "FILE_URL = File_path\n",
    "print(FILE_URL)\n",
    "transcriber = aai.Transcriber()\n",
    "transcript = transcriber.transcribe(FILE_URL)\n",
    "\n",
    "final_txt = transcript.text\n",
    "final_txt"
   ]
  },
  {
   "cell_type": "code",
   "execution_count": 13,
   "metadata": {},
   "outputs": [
    {
     "data": {
      "text/plain": [
       "[['You.', 330, 830],\n",
       " ['So', 980, 1294],\n",
       " [\"what's\", 1332, 1546],\n",
       " ['the', 1578, 1726],\n",
       " ['best', 1748, 1934],\n",
       " ['way', 1972, 2174],\n",
       " ['to', 2212, 2366],\n",
       " ['learn', 2388, 2622],\n",
       " ['data', 2676, 2942],\n",
       " ['science?', 2996, 3594],\n",
       " ['Well,', 3722, 4014],\n",
       " ['the', 4052, 4206],\n",
       " ['best', 4228, 4462],\n",
       " ['way', 4516, 4830],\n",
       " ['to', 4900, 5134],\n",
       " ['learn', 5172, 5374],\n",
       " ['data', 5412, 5614],\n",
       " ['science', 5652, 6042],\n",
       " ['is', 6106, 6334],\n",
       " ['to', 6372, 6574],\n",
       " ['do', 6612, 6862],\n",
       " ['data', 6916, 7230],\n",
       " ['science.', 7300, 7866],\n",
       " ['And', 7978, 8206],\n",
       " ['so', 8228, 8366],\n",
       " ['if', 8388, 8478],\n",
       " [\"you're\", 8484, 8698],\n",
       " ['into', 8714, 8894],\n",
       " ['this', 8932, 9134],\n",
       " ['type', 9172, 9326],\n",
       " ['of', 9348, 9486],\n",
       " ['content,', 9508, 10174],\n",
       " ['you', 10372, 10686],\n",
       " ['want', 10708, 10798],\n",
       " ['to', 10804, 10926],\n",
       " ['consider', 10948, 11230],\n",
       " ['subscribing', 11300, 12106],\n",
       " ['for', 12218, 12542],\n",
       " ['more', 12596, 12862],\n",
       " ['tutorials', 12916, 13642],\n",
       " ['and', 13706, 13982],\n",
       " ['concept', 14036, 14506],\n",
       " ['videos.', 14538, 14620]]"
      ]
     },
     "execution_count": 13,
     "metadata": {},
     "output_type": "execute_result"
    }
   ],
   "source": [
    "# Initialize an empty list to store the final result\n",
    "final_text = []\n",
    "\n",
    "# Iterate over each word_info in the 'transcript.words' list\n",
    "for word_info in transcript.words:\n",
    "    # Extract text, start time, and end time information for each word\n",
    "    word_text = word_info.text\n",
    "    start_time = word_info.start\n",
    "    end_time = word_info.end\n",
    "\n",
    "    # Create a list containing word_text, start_time, and end_time\n",
    "    word_info_list = [word_text, start_time, end_time]\n",
    "\n",
    "    # Append the word_info_list to the final_text list\n",
    "    final_text.append(word_info_list)\n",
    "\n",
    "# Display the final result\n",
    "final_text\n"
   ]
  },
  {
   "cell_type": "code",
   "execution_count": 14,
   "metadata": {},
   "outputs": [],
   "source": [
    "# Specify the file path for the text file where the final_text will be stored\n",
    "txt_file_path = \"D:\\\\Capstone\\\\2.Text Parallel to Video\\\\subTitle.txt\"\n",
    "\n",
    "# Append the input video path to the final_text list\n",
    "final_text.append(input_video_path)\n",
    "\n",
    "file = open(txt_file_path, \"w\")\n",
    "\n",
    "# Write the string representation of final_text to the text file\n",
    "file.write(str(final_text))\n",
    "\n",
    "file.close()\n"
   ]
  }
 ],
 "metadata": {
  "kernelspec": {
   "display_name": "Python 3",
   "language": "python",
   "name": "python3"
  },
  "language_info": {
   "codemirror_mode": {
    "name": "ipython",
    "version": 3
   },
   "file_extension": ".py",
   "mimetype": "text/x-python",
   "name": "python",
   "nbconvert_exporter": "python",
   "pygments_lexer": "ipython3",
   "version": "3.9.0"
  },
  "orig_nbformat": 4
 },
 "nbformat": 4,
 "nbformat_minor": 2
}
