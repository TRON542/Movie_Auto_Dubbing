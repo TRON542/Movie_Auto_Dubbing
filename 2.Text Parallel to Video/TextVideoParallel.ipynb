{
 "cells": [
  {
   "cell_type": "code",
   "execution_count": 13,
   "metadata": {},
   "outputs": [],
   "source": [
    "import numpy as np\n",
    "import os\n",
    "from moviepy.editor import *"
   ]
  },
  {
   "cell_type": "code",
   "execution_count": 18,
   "metadata": {},
   "outputs": [
    {
     "data": {
      "text/plain": [
       "['1.Speach to text',\n",
       " '2.Text Parallel to Video',\n",
       " '3.Text to Voice',\n",
       " '4.Creating model',\n",
       " 'Creating datasets',\n",
       " 'mp3 output',\n",
       " 'Output Video',\n",
       " 'sam1.mp3',\n",
       " 'text to voice 2',\n",
       " 'Video',\n",
       " 'VoiceDatasets']"
      ]
     },
     "execution_count": 18,
     "metadata": {},
     "output_type": "execute_result"
    }
   ],
   "source": [
    "os.getcwd()\n",
    "os.chdir(r'd:\\Capstone')\n",
    "os.listdir()\n"
   ]
  },
  {
   "attachments": {},
   "cell_type": "markdown",
   "metadata": {},
   "source": [
    "<h1>Reading Extracted Text </h3>"
   ]
  },
  {
   "cell_type": "code",
   "execution_count": 19,
   "metadata": {},
   "outputs": [
    {
     "data": {
      "text/plain": [
       "'[[\\'You.\\', 330, 830], [\\'So\\', 980, 1294], [\"what\\'s\", 1332, 1546], [\\'the\\', 1578, 1726], [\\'best\\', 1748, 1934], [\\'way\\', 1972, 2174], [\\'to\\', 2212, 2366], [\\'learn\\', 2388, 2622], [\\'data\\', 2676, 2942], [\\'science?\\', 2996, 3594], [\\'Well,\\', 3722, 4014], [\\'the\\', 4052, 4206], [\\'best\\', 4228, 4462], [\\'way\\', 4516, 4830], [\\'to\\', 4900, 5134], [\\'learn\\', 5172, 5374], [\\'data\\', 5412, 5614], [\\'science\\', 5652, 6042], [\\'is\\', 6106, 6334], [\\'to\\', 6372, 6574], [\\'do\\', 6612, 6862], [\\'data\\', 6916, 7230], [\\'science.\\', 7300, 7866], [\\'And\\', 7978, 8206], [\\'so\\', 8228, 8366], [\\'if\\', 8388, 8478], [\"you\\'re\", 8484, 8698], [\\'into\\', 8714, 8894], [\\'this\\', 8932, 9134], [\\'type\\', 9172, 9326], [\\'of\\', 9348, 9486], [\\'content,\\', 9508, 10174], [\\'you\\', 10372, 10686], [\\'want\\', 10708, 10798], [\\'to\\', 10804, 10926], [\\'consider\\', 10948, 11230], [\\'subscribing\\', 11300, 12106], [\\'for\\', 12218, 12542], [\\'more\\', 12596, 12862], [\\'tutorials\\', 12916, 13642], [\\'and\\', 13706, 13982], [\\'concept\\', 14036, 14506], [\\'videos.\\', 14538, 14620], \\'Video\\\\\\\\Sample1.mp4\\']'"
      ]
     },
     "execution_count": 19,
     "metadata": {},
     "output_type": "execute_result"
    }
   ],
   "source": [
    "file = open(r'2.Text Parallel to Video\\subTitle.txt')\n",
    "txt = file.read()\n",
    "txt\n"
   ]
  },
  {
   "cell_type": "code",
   "execution_count": 20,
   "metadata": {},
   "outputs": [
    {
     "data": {
      "text/plain": [
       "[['You.', 330, 830],\n",
       " ['So', 980, 1294],\n",
       " [\"what's\", 1332, 1546],\n",
       " ['the', 1578, 1726],\n",
       " ['best', 1748, 1934],\n",
       " ['way', 1972, 2174],\n",
       " ['to', 2212, 2366],\n",
       " ['learn', 2388, 2622],\n",
       " ['data', 2676, 2942],\n",
       " ['science?', 2996, 3594],\n",
       " ['Well,', 3722, 4014],\n",
       " ['the', 4052, 4206],\n",
       " ['best', 4228, 4462],\n",
       " ['way', 4516, 4830],\n",
       " ['to', 4900, 5134],\n",
       " ['learn', 5172, 5374],\n",
       " ['data', 5412, 5614],\n",
       " ['science', 5652, 6042],\n",
       " ['is', 6106, 6334],\n",
       " ['to', 6372, 6574],\n",
       " ['do', 6612, 6862],\n",
       " ['data', 6916, 7230],\n",
       " ['science.', 7300, 7866],\n",
       " ['And', 7978, 8206],\n",
       " ['so', 8228, 8366],\n",
       " ['if', 8388, 8478],\n",
       " [\"you're\", 8484, 8698],\n",
       " ['into', 8714, 8894],\n",
       " ['this', 8932, 9134],\n",
       " ['type', 9172, 9326],\n",
       " ['of', 9348, 9486],\n",
       " ['content,', 9508, 10174],\n",
       " ['you', 10372, 10686],\n",
       " ['want', 10708, 10798],\n",
       " ['to', 10804, 10926],\n",
       " ['consider', 10948, 11230],\n",
       " ['subscribing', 11300, 12106],\n",
       " ['for', 12218, 12542],\n",
       " ['more', 12596, 12862],\n",
       " ['tutorials', 12916, 13642],\n",
       " ['and', 13706, 13982],\n",
       " ['concept', 14036, 14506],\n",
       " ['videos.', 14538, 14620],\n",
       " 'Video\\\\Sample1.mp4']"
      ]
     },
     "execution_count": 20,
     "metadata": {},
     "output_type": "execute_result"
    }
   ],
   "source": [
    "import ast\n",
    "text_list = ast.literal_eval(txt)\n",
    "text_list"
   ]
  },
  {
   "cell_type": "code",
   "execution_count": 21,
   "metadata": {},
   "outputs": [],
   "source": [
    "# Extract the last item from text_list as the video_path\n",
    "video_path = text_list[-1]\n",
    "\n",
    "# Remove the last item from text_list as it is now stored in video_path\n",
    "text_list = text_list[:-1]\n",
    "\n",
    "# Specify the path for the output video\n",
    "output_path = r'Output Video\\outputVideo.mp4'\n",
    "\n",
    "# Load the video clip from the specified video_path\n",
    "video_clip = VideoFileClip(video_path)\n"
   ]
  },
  {
   "cell_type": "code",
   "execution_count": 22,
   "metadata": {},
   "outputs": [
    {
     "name": "stdout",
     "output_type": "stream",
     "text": [
      "You. So what's the best way \n",
      "to learn data science? Well, the \n",
      "best way to learn data science \n",
      "is to do data science. And \n",
      "so if you're into this type \n",
      "of content, you want to consider \n"
     ]
    }
   ],
   "source": [
    "# Create a copy of the original text_list for processing\n",
    "text_list_temp = text_list.copy()\n",
    "\n",
    "# Display the contents of the temporary text_list\n",
    "text_list_temp\n",
    "\n",
    "# Initialize an empty list to store TextClips\n",
    "text_clips = []\n",
    "\n",
    "# Define the size of each text segment (number of words)\n",
    "size = 6\n",
    "\n",
    "# Exclude the last item from text_list_temp, as it is not processed in the loop\n",
    "text_list_temp = text_list_temp[:-1]\n",
    "\n",
    "# Process text_list_temp in segments of size 'size'\n",
    "while (len(text_list_temp) > size):\n",
    "    # Initialize variables to store the concatenated string and start/end times\n",
    "    stri = \"\"\n",
    "    start, end = 0, 0\n",
    "    count = size\n",
    "\n",
    "    # Iterate through the segment to build the concatenated string\n",
    "    while (count):\n",
    "        # Set start time for the first word in the segment\n",
    "        if (count == size):\n",
    "            start = text_list_temp[0][1]\n",
    "        # Set end time for the last word in the segment\n",
    "        if (count == 1):\n",
    "            end = text_list_temp[0][2]\n",
    "\n",
    "        # Concatenate the word to the string\n",
    "        stri = stri + text_list_temp[0][0] + \" \"\n",
    "        count -= 1\n",
    "        text_list_temp = text_list_temp[1:]\n",
    "\n",
    "    # Display the concatenated string\n",
    "    print(stri)\n",
    "\n",
    "    # Create a TextClip for the segment and append it to the text_clips list\n",
    "    clip = TextClip(stri, fontsize=24, color='white', bg_color='black').set_position(('center', video_clip.size[1]-60)).set_start(start/1000).set_duration((end-start)/1000)\n",
    "    text_clips.append(clip)\n",
    "\n",
    "# Process the remaining items in text_list_temp (if any)\n",
    "if (text_list_temp):\n",
    "    start = text_list_temp[0][1]\n",
    "    end = 0\n",
    "    stri = \"\"\n",
    "\n",
    "    # Concatenate the remaining items in text_list_temp\n",
    "    while (text_list_temp):\n",
    "        if (len(text_list_temp) == 1):\n",
    "            end = text_list_temp[0][2]\n",
    "        stri = stri + text_list_temp[0][0] + \" \"\n",
    "        text_list_temp = text_list_temp[1:]\n",
    "\n",
    "    # Create a TextClip for the remaining segment and append it to text_clips\n",
    "    clip = TextClip(stri, fontsize=24, color='white', bg_color='black').set_position(('center', video_clip.size[1]-60)).set_start(start/1000).set_duration((end-start)/1000)\n",
    "    text_clips.append(clip)\n",
    "\n",
    "    # Display the last TextClip\n",
    "    clip.ipython_display()\n"
   ]
  },
  {
   "cell_type": "code",
   "execution_count": 6,
   "metadata": {},
   "outputs": [
    {
     "name": "stdout",
     "output_type": "stream",
     "text": [
      "Moviepy - Building video D:\\Capstone\\Output Video\\outputVideo.mp4.\n",
      "MoviePy - Writing audio in outputVideoTEMP_MPY_wvf_snd.mp3\n"
     ]
    },
    {
     "name": "stderr",
     "output_type": "stream",
     "text": [
      "                                                                    \r"
     ]
    },
    {
     "name": "stdout",
     "output_type": "stream",
     "text": [
      "MoviePy - Done.\n",
      "Moviepy - Writing video D:\\Capstone\\Output Video\\outputVideo.mp4\n",
      "\n"
     ]
    },
    {
     "name": "stderr",
     "output_type": "stream",
     "text": [
      "                                                              \r"
     ]
    },
    {
     "name": "stdout",
     "output_type": "stream",
     "text": [
      "Moviepy - Done !\n",
      "Moviepy - video ready D:\\Capstone\\Output Video\\outputVideo.mp4\n",
      "completed\n"
     ]
    }
   ],
   "source": [
    "# Create a composite video by combining the original video clip with the text clips\n",
    "final_video = CompositeVideoClip([video_clip] + text_clips)\n",
    "\n",
    "# Write the composite video to the specified output path\n",
    "final_video.write_videofile(output_path)\n",
    "\n",
    "# Print a completion message\n",
    "print(\"Video creation completed\")\n"
   ]
  }
 ],
 "metadata": {
  "kernelspec": {
   "display_name": "Python 3",
   "language": "python",
   "name": "python3"
  },
  "language_info": {
   "codemirror_mode": {
    "name": "ipython",
    "version": 3
   },
   "file_extension": ".py",
   "mimetype": "text/x-python",
   "name": "python",
   "nbconvert_exporter": "python",
   "pygments_lexer": "ipython3",
   "version": "3.9.0"
  },
  "orig_nbformat": 4
 },
 "nbformat": 4,
 "nbformat_minor": 2
}
